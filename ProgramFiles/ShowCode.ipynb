{
 "cells": [
  {
   "cell_type": "code",
   "execution_count": null,
   "metadata": {
    "tags": [
     "outputPrepend"
    ]
   },
   "outputs": [],
   "source": [
    "def Simps(FunctionToIntegrate, LowerBound, UpperBound, NumberOfSegments):\n",
    "        SegmentWidth = (b - a)/NumberOfSegments\n",
    "        Sum = f(b) + f(a)\n",
    "        for i in range(1,int(NumberOfSegments)):\n",
    "            if i % 2:\n",
    "                Sum += 4*FunctionToIntegrate(LowerBound+i*SegmentWidth)\n",
    "            else:\n",
    "                Sum += 2*FunctionToIntegrate(LowerBound+i*SegmentWidth)\n",
    "        return Sum*SegmentWidth/3"
   ]
  }
 ],
 "metadata": {
  "kernelspec": {
   "display_name": "Python 3",
   "language": "python",
   "name": "python3"
  },
  "language_info": {
   "codemirror_mode": {
    "name": "ipython",
    "version": 3
   },
   "file_extension": ".py",
   "mimetype": "text/x-python",
   "name": "python",
   "nbconvert_exporter": "python",
   "pygments_lexer": "ipython3",
   "version": "3.7.3-final"
  }
 },
 "nbformat": 4,
 "nbformat_minor": 2
}